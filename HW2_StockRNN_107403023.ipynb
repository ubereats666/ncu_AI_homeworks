{
  "nbformat": 4,
  "nbformat_minor": 0,
  "metadata": {
    "colab": {
      "name": "StockRNN-107403023.ipynb",
      "provenance": [],
      "collapsed_sections": [],
      "toc_visible": true
    },
    "kernelspec": {
      "name": "python3",
      "display_name": "Python 3"
    },
    "accelerator": "GPU"
  },
  "cells": [
    {
      "cell_type": "markdown",
      "metadata": {
        "id": "iRAa8Hh-d4F3"
      },
      "source": [
        "![](https://i.imgur.com/3twMqGw.png)\n",
        "\n",
        "# 作業2 : 股票預測\n",
        "\n",
        "## **請挑選一家公司來做預測**\n",
        "\n",
        "資料集: [鉅亨網](https://www.cnyes.com/)\n",
        "\n",
        "> **資料集說明**\n",
        "\n",
        "別人恐懼我貪婪，一張不賣奇蹟來。\n",
        "\n",
        ">**作業說明**\n",
        "\n",
        "**第一步驟**: 左上角 檔案->在雲端硬碟建立副本。\n",
        "\n",
        "**第二步驟**: 右上角 共用->取得連結->任何知道這個連結的人都能編輯\n",
        "\n",
        "**第三步驟**: 左上角 執行階段->更變執行類型->GPU。 可以加快模型速度\n",
        "\n",
        "**第四步驟**: 檔案名稱，請填寫你的學號，把副本上下引號刪掉\n",
        "\n",
        "請 **隨意修改** 這個colab的程式來完成訓練RNN模型。**不必一定要照著todo提示走。**\n",
        "繳交時記得改檔案標題的學號。\n",
        "\n",
        "這次作業的重點在於RNN的維度問題。\n",
        "\n",
        "> **作業限制**\n",
        "\n",
        "1. 不要動資料集、不要在訓練時偷看test data\n",
        "2. 模型請手刻、手疊，**不要用Transfer Learning**，你可以手刻transformer。\n",
        "3. **不要抄襲**\n",
        "\n",
        "> **作業繳交**\n",
        "\n",
        "1. 完成訓練後保存output結果，更改**檔名學號**，左上角 檔案->下載 成ipynb檔。\n",
        "2. 交一個**pdf**檔，裡面需要附上**你的作業colab連結(設為可編輯、所有人觀看)**、姓名學號年級、過程和執行結果的截圖，並說明你程式撰寫的過程、本次作業心得(字數不限)。\n",
        "3. 上述三個檔案繳交至ee-class。(Text Generation、Stock、PDF)\n",
        "\n",
        "> **繳交期限**\n",
        "\n",
        "1. 電子商務技術(IM5002): 期限至2021/5/5(三) 23:59分\n",
        "2. 人工智慧與機器學習(IM3078): 期限至2021/5/5(三) 23:59分\n",
        "3. 電子商務智慧技術(IMA0200): 期限至2021/5/16(六) 23:59分\n",
        "\n",
        "> **算分標準**\n",
        "\n",
        "Text Generation(30) + Stock RNN(40) + Predict function(20分) + 10分文件\n",
        "1.  [Text Generation](https://colab.research.google.com/drive/1bMkAUaiivMaOr8Sd1Ui-KJeoFImEVUqA?usp=sharing) 換個其他資料集來訓練，完成就30分\n",
        "2. Stock RNN完成模型就40分\n",
        "3. predit function有寫出來就20分(第七段)\n",
        "4. 10分是文件分數\n",
        "5. 記得把以上評分標準截圖、並與你的心得一起貼上pdf\n",
        "\n",
        "有問題再來信助教: lufor129@g.ncu.edu.tw\n",
        "\n",
        "或是每個禮拜一 12:00~14:00到志希館313找助教\n"
      ]
    },
    {
      "cell_type": "code",
      "metadata": {
        "id": "RURvH0RWNsOQ",
        "colab": {
          "base_uri": "https://localhost:8080/"
        },
        "outputId": "8e7eba54-d687-420f-a454-3f7042c5f505"
      },
      "source": [
        "import os\n",
        "\n",
        "if(os.path.isfile(\"./train.csv\") == False):\n",
        "  !wget -O train.csv \"http://140.115.82.54/NN/Recurrent/train.csv\"\n",
        "  !wget -O test.csv \"http://140.115.82.54/NN/Recurrent/test.csv\""
      ],
      "execution_count": 1,
      "outputs": [
        {
          "output_type": "stream",
          "text": [
            "--2021-05-05 09:08:55--  http://140.115.82.54/NN/Recurrent/train.csv\n",
            "Connecting to 140.115.82.54:80... connected.\n",
            "HTTP request sent, awaiting response... 200 OK\n",
            "Length: 138446 (135K) [application/octet-stream]\n",
            "Saving to: ‘train.csv’\n",
            "\n",
            "train.csv           100%[===================>] 135.20K  66.7KB/s    in 2.0s    \n",
            "\n",
            "2021-05-05 09:08:58 (66.7 KB/s) - ‘train.csv’ saved [138446/138446]\n",
            "\n",
            "--2021-05-05 09:08:58--  http://140.115.82.54/NN/Recurrent/test.csv\n",
            "Connecting to 140.115.82.54:80... connected.\n",
            "HTTP request sent, awaiting response... 200 OK\n",
            "Length: 2358 (2.3K) [application/octet-stream]\n",
            "Saving to: ‘test.csv’\n",
            "\n",
            "test.csv            100%[===================>]   2.30K  --.-KB/s    in 0s      \n",
            "\n",
            "2021-05-05 09:08:58 (370 MB/s) - ‘test.csv’ saved [2358/2358]\n",
            "\n"
          ],
          "name": "stdout"
        }
      ]
    },
    {
      "cell_type": "markdown",
      "metadata": {
        "id": "AopvjZOxYmky"
      },
      "source": [
        "## 1. 讀入Package"
      ]
    },
    {
      "cell_type": "code",
      "metadata": {
        "id": "Z6Z6H5ibOZg0"
      },
      "source": [
        "import tensorflow as tf\n",
        "from tensorflow import keras\n",
        "from tensorflow.keras import layers\n",
        "from keras.layers import LSTM \n",
        "from keras.models import Sequential\n",
        "\n",
        "import numpy as np\n",
        "import matplotlib.pyplot as plt\n",
        "import pandas as pd\n",
        "import os\n",
        "import random\n",
        "import datetime\n",
        "from sklearn.preprocessing import MinMaxScaler"
      ],
      "execution_count": 2,
      "outputs": []
    },
    {
      "cell_type": "markdown",
      "metadata": {
        "id": "1yeQBU3aYqzg"
      },
      "source": [
        "## 2. 取得資料集"
      ]
    },
    {
      "cell_type": "code",
      "metadata": {
        "id": "pF1xYGzJOiQJ",
        "colab": {
          "base_uri": "https://localhost:8080/",
          "height": 212
        },
        "outputId": "3c274279-65e7-44cd-a8a0-66f2c064a5af"
      },
      "source": [
        "train_df = pd.read_csv(\"./train.csv\")\n",
        "train_df = train_df[::-1]\n",
        "print(\"company : \",train_df[\"company\"].unique())\n",
        "train_df.head()"
      ],
      "execution_count": 3,
      "outputs": [
        {
          "output_type": "stream",
          "text": [
            "company :  [2317 2454 2330]\n"
          ],
          "name": "stdout"
        },
        {
          "output_type": "execute_result",
          "data": {
            "text/html": [
              "<div>\n",
              "<style scoped>\n",
              "    .dataframe tbody tr th:only-of-type {\n",
              "        vertical-align: middle;\n",
              "    }\n",
              "\n",
              "    .dataframe tbody tr th {\n",
              "        vertical-align: top;\n",
              "    }\n",
              "\n",
              "    .dataframe thead th {\n",
              "        text-align: right;\n",
              "    }\n",
              "</style>\n",
              "<table border=\"1\" class=\"dataframe\">\n",
              "  <thead>\n",
              "    <tr style=\"text-align: right;\">\n",
              "      <th></th>\n",
              "      <th>company</th>\n",
              "      <th>date</th>\n",
              "      <th>price</th>\n",
              "    </tr>\n",
              "  </thead>\n",
              "  <tbody>\n",
              "    <tr>\n",
              "      <th>6687</th>\n",
              "      <td>2317</td>\n",
              "      <td>2012/1/2</td>\n",
              "      <td>81.4</td>\n",
              "    </tr>\n",
              "    <tr>\n",
              "      <th>6686</th>\n",
              "      <td>2317</td>\n",
              "      <td>2012/1/3</td>\n",
              "      <td>82.7</td>\n",
              "    </tr>\n",
              "    <tr>\n",
              "      <th>6685</th>\n",
              "      <td>2317</td>\n",
              "      <td>2012/1/4</td>\n",
              "      <td>83.2</td>\n",
              "    </tr>\n",
              "    <tr>\n",
              "      <th>6684</th>\n",
              "      <td>2317</td>\n",
              "      <td>2012/1/5</td>\n",
              "      <td>83.2</td>\n",
              "    </tr>\n",
              "    <tr>\n",
              "      <th>6683</th>\n",
              "      <td>2317</td>\n",
              "      <td>2012/1/6</td>\n",
              "      <td>83.9</td>\n",
              "    </tr>\n",
              "  </tbody>\n",
              "</table>\n",
              "</div>"
            ],
            "text/plain": [
              "      company      date  price\n",
              "6687     2317  2012/1/2   81.4\n",
              "6686     2317  2012/1/3   82.7\n",
              "6685     2317  2012/1/4   83.2\n",
              "6684     2317  2012/1/5   83.2\n",
              "6683     2317  2012/1/6   83.9"
            ]
          },
          "metadata": {
            "tags": []
          },
          "execution_count": 3
        }
      ]
    },
    {
      "cell_type": "code",
      "metadata": {
        "colab": {
          "base_uri": "https://localhost:8080/",
          "height": 212
        },
        "id": "gx0PFFHP3O2d",
        "outputId": "8e1d4e72-a982-412b-e2c3-f04ba25fc9af"
      },
      "source": [
        "test_df = pd.read_csv(\"./test.csv\")\n",
        "test_df = test_df[::-1]\n",
        "print(\"test data shape : \",test_df.shape)\n",
        "test_df.head()"
      ],
      "execution_count": 4,
      "outputs": [
        {
          "output_type": "stream",
          "text": [
            "test data shape :  (117, 3)\n"
          ],
          "name": "stdout"
        },
        {
          "output_type": "execute_result",
          "data": {
            "text/html": [
              "<div>\n",
              "<style scoped>\n",
              "    .dataframe tbody tr th:only-of-type {\n",
              "        vertical-align: middle;\n",
              "    }\n",
              "\n",
              "    .dataframe tbody tr th {\n",
              "        vertical-align: top;\n",
              "    }\n",
              "\n",
              "    .dataframe thead th {\n",
              "        text-align: right;\n",
              "    }\n",
              "</style>\n",
              "<table border=\"1\" class=\"dataframe\">\n",
              "  <thead>\n",
              "    <tr style=\"text-align: right;\">\n",
              "      <th></th>\n",
              "      <th>company</th>\n",
              "      <th>date</th>\n",
              "      <th>price</th>\n",
              "    </tr>\n",
              "  </thead>\n",
              "  <tbody>\n",
              "    <tr>\n",
              "      <th>116</th>\n",
              "      <td>2317</td>\n",
              "      <td>2021/2/1</td>\n",
              "      <td>113.0</td>\n",
              "    </tr>\n",
              "    <tr>\n",
              "      <th>115</th>\n",
              "      <td>2317</td>\n",
              "      <td>2021/2/2</td>\n",
              "      <td>116.5</td>\n",
              "    </tr>\n",
              "    <tr>\n",
              "      <th>114</th>\n",
              "      <td>2317</td>\n",
              "      <td>2021/2/3</td>\n",
              "      <td>116.5</td>\n",
              "    </tr>\n",
              "    <tr>\n",
              "      <th>113</th>\n",
              "      <td>2317</td>\n",
              "      <td>2021/2/4</td>\n",
              "      <td>114.0</td>\n",
              "    </tr>\n",
              "    <tr>\n",
              "      <th>112</th>\n",
              "      <td>2317</td>\n",
              "      <td>2021/2/5</td>\n",
              "      <td>113.5</td>\n",
              "    </tr>\n",
              "  </tbody>\n",
              "</table>\n",
              "</div>"
            ],
            "text/plain": [
              "     company      date  price\n",
              "116     2317  2021/2/1  113.0\n",
              "115     2317  2021/2/2  116.5\n",
              "114     2317  2021/2/3  116.5\n",
              "113     2317  2021/2/4  114.0\n",
              "112     2317  2021/2/5  113.5"
            ]
          },
          "metadata": {
            "tags": []
          },
          "execution_count": 4
        }
      ]
    },
    {
      "cell_type": "code",
      "metadata": {
        "id": "d4qpw9ZaOkIq"
      },
      "source": [
        "####################################\n",
        "#                 #\n",
        "# 自己決定三家公司哪家公司(填數字)#\n",
        "# 挑選一家公司來做訓練、預測   #\n",
        "#                 #\n",
        "#                 #\n",
        "####################################\n",
        "companys = {\"2330\":\"TSMC\",\"2454\":\"MEDIATEK\",\"2317\":\"FOXCONN\"}\n",
        "company_id = 2454"
      ],
      "execution_count": 5,
      "outputs": []
    },
    {
      "cell_type": "code",
      "metadata": {
        "id": "6Qkjc3kHOoD8",
        "colab": {
          "base_uri": "https://localhost:8080/",
          "height": 223
        },
        "outputId": "1e0f4da9-8998-4cbd-feaa-21407dbe6f6f"
      },
      "source": [
        "company = train_df[train_df[\"company\"] == company_id]\n",
        "company.index = company[\"date\"]\n",
        "company.head()"
      ],
      "execution_count": 6,
      "outputs": [
        {
          "output_type": "execute_result",
          "data": {
            "text/html": [
              "<div>\n",
              "<style scoped>\n",
              "    .dataframe tbody tr th:only-of-type {\n",
              "        vertical-align: middle;\n",
              "    }\n",
              "\n",
              "    .dataframe tbody tr th {\n",
              "        vertical-align: top;\n",
              "    }\n",
              "\n",
              "    .dataframe thead th {\n",
              "        text-align: right;\n",
              "    }\n",
              "</style>\n",
              "<table border=\"1\" class=\"dataframe\">\n",
              "  <thead>\n",
              "    <tr style=\"text-align: right;\">\n",
              "      <th></th>\n",
              "      <th>company</th>\n",
              "      <th>date</th>\n",
              "      <th>price</th>\n",
              "    </tr>\n",
              "    <tr>\n",
              "      <th>date</th>\n",
              "      <th></th>\n",
              "      <th></th>\n",
              "      <th></th>\n",
              "    </tr>\n",
              "  </thead>\n",
              "  <tbody>\n",
              "    <tr>\n",
              "      <th>2012/1/2</th>\n",
              "      <td>2454</td>\n",
              "      <td>2012/1/2</td>\n",
              "      <td>273.0</td>\n",
              "    </tr>\n",
              "    <tr>\n",
              "      <th>2012/1/3</th>\n",
              "      <td>2454</td>\n",
              "      <td>2012/1/3</td>\n",
              "      <td>280.0</td>\n",
              "    </tr>\n",
              "    <tr>\n",
              "      <th>2012/1/4</th>\n",
              "      <td>2454</td>\n",
              "      <td>2012/1/4</td>\n",
              "      <td>280.5</td>\n",
              "    </tr>\n",
              "    <tr>\n",
              "      <th>2012/1/5</th>\n",
              "      <td>2454</td>\n",
              "      <td>2012/1/5</td>\n",
              "      <td>282.0</td>\n",
              "    </tr>\n",
              "    <tr>\n",
              "      <th>2012/1/6</th>\n",
              "      <td>2454</td>\n",
              "      <td>2012/1/6</td>\n",
              "      <td>278.5</td>\n",
              "    </tr>\n",
              "  </tbody>\n",
              "</table>\n",
              "</div>"
            ],
            "text/plain": [
              "          company      date  price\n",
              "date                              \n",
              "2012/1/2     2454  2012/1/2  273.0\n",
              "2012/1/3     2454  2012/1/3  280.0\n",
              "2012/1/4     2454  2012/1/4  280.5\n",
              "2012/1/5     2454  2012/1/5  282.0\n",
              "2012/1/6     2454  2012/1/6  278.5"
            ]
          },
          "metadata": {
            "tags": []
          },
          "execution_count": 6
        }
      ]
    },
    {
      "cell_type": "code",
      "metadata": {
        "id": "LacIURDSOos0"
      },
      "source": [
        "def include_last_iter(start,end,step):\n",
        "  i = start\n",
        "  while i < end:\n",
        "      yield i\n",
        "      i += step\n",
        "  yield end-1"
      ],
      "execution_count": 7,
      "outputs": []
    },
    {
      "cell_type": "code",
      "metadata": {
        "colab": {
          "base_uri": "https://localhost:8080/",
          "height": 537
        },
        "id": "ztReqaKGOpjl",
        "outputId": "3e39bf28-466c-4a6a-b2d5-baef725c9ed0"
      },
      "source": [
        "plt.figure(figsize=(16, 8))\n",
        "plt.subplots_adjust(hspace=0.5)\n",
        "for index,c in enumerate(companys):\n",
        "  plt.subplot(2,2,index+1)\n",
        "  company_df = train_df[train_df[\"company\"] == int(c)]\n",
        "  plt.plot(company_df[\"date\"],company_df[\"price\"])\n",
        "  plt.xticks(list(include_last_iter(0,company_df.shape[0],250)),rotation=30)\n",
        "  plt.title(companys[c])\n",
        "  plt.xlabel(\"Date\")\n",
        "  plt.ylabel(\"price\")\n",
        "    \n",
        "plt.show()"
      ],
      "execution_count": 8,
      "outputs": [
        {
          "output_type": "display_data",
          "data": {
            "image/png": "[encoded data removed]",
            "text/plain": [
              "<Figure size 1152x576 with 3 Axes>"
            ]
          },
          "metadata": {
            "tags": [],
            "needs_background": "light"
          }
        }
      ]
    },
    {
      "cell_type": "markdown",
      "metadata": {
        "id": "o-fbgns7YudB"
      },
      "source": [
        "## 3. 資料前處理"
      ]
    },
    {
      "cell_type": "code",
      "metadata": {
        "colab": {
          "base_uri": "https://localhost:8080/"
        },
        "id": "sg8bkUoMOsxG",
        "outputId": "a9d09381-471c-48ac-b438-ba42d5e71087"
      },
      "source": [
        "# 切分training data & validation data\n",
        "total_len = company.shape[0]\n",
        "training_len = 2100\n",
        "validation_data = total_len - training_len\n",
        "\n",
        "print(\"總共有 : \",total_len,\"筆\")\n",
        "print(\"訓練用 : (前)\",training_len,\"筆\")\n",
        "print(\"驗證用 : (後)\",validation_data,\"筆\")"
      ],
      "execution_count": 9,
      "outputs": [
        {
          "output_type": "stream",
          "text": [
            "總共有 :  2231 筆\n",
            "訓練用 : (前) 2100 筆\n",
            "驗證用 : (後) 131 筆\n"
          ],
          "name": "stdout"
        }
      ]
    },
    {
      "cell_type": "code",
      "metadata": {
        "id": "ndsIf36gW0Wl"
      },
      "source": [
        "# 自己做 MinMax Transformer 前處理 \n",
        "class MinMaxTransformer:\n",
        "  def __init__(self):\n",
        "    self.min = None\n",
        "    self.max = None\n",
        "    self.distance = None\n",
        "\n",
        "  def fit(self,data):\n",
        "    self.min = min(data)\n",
        "    self.max = max(data)\n",
        "    self.distance = self.max - self.min\n",
        "    out = [(d-self.min)/self.distance for d in data]\n",
        "    return out\n",
        "\n",
        "  def recover(self,data):\n",
        "    out = [d*self.distance+self.min for d in data]\n",
        "    return out\n",
        "\n",
        "  def transform(self,data):\n",
        "    out = [(d-self.min)/self.distance for d in data]\n",
        "    return out\n",
        "\n",
        "  def transform_one(self,data):\n",
        "    return (data-self.min)/self.distance"
      ],
      "execution_count": 10,
      "outputs": []
    },
    {
      "cell_type": "code",
      "metadata": {
        "id": "urZjG_kDOuTP",
        "colab": {
          "base_uri": "https://localhost:8080/"
        },
        "outputId": "a0913d36-0848-45ff-b926-34d46ed7e5cc"
      },
      "source": [
        "train_prices = company[\"price\"].values\n",
        "\n",
        "scalar = MinMaxTransformer()\n",
        "scalar_data = scalar.fit(train_prices)\n",
        "#正規化後的價格\n",
        "\n",
        "print(train_prices[:5])\n",
        "print(scalar_data[:4])"
      ],
      "execution_count": 11,
      "outputs": [
        {
          "output_type": "stream",
          "text": [
            "[273.  280.  280.5 282.  278.5]\n",
            "[0.1091644204851752, 0.11859838274932614, 0.1192722371967655, 0.12129380053908356]\n"
          ],
          "name": "stdout"
        }
      ]
    },
    {
      "cell_type": "code",
      "metadata": {
        "colab": {
          "base_uri": "https://localhost:8080/"
        },
        "id": "vRXJt6sWizwT",
        "outputId": "562c7ac4-98db-4896-9cb5-7eb760b3d279"
      },
      "source": [
        "# 做正規化\n",
        "print(\"origin data : \",train_prices[:5])\n",
        "print(\"transform data : \",scalar_data[:5])\n",
        "print(\"recover data : \",scalar.recover(scalar_data[:5]))"
      ],
      "execution_count": 12,
      "outputs": [
        {
          "output_type": "stream",
          "text": [
            "origin data :  [273.  280.  280.5 282.  278.5]\n",
            "transform data :  [0.1091644204851752, 0.11859838274932614, 0.1192722371967655, 0.12129380053908356, 0.11657681940700809]\n",
            "recover data :  [273.0, 280.0, 280.5, 282.0, 278.5]\n"
          ],
          "name": "stdout"
        }
      ]
    },
    {
      "cell_type": "code",
      "metadata": {
        "id": "Jcwp01DcVyCv"
      },
      "source": [
        "# 切分資料集\n",
        "training_data = scalar_data[:training_len]\n",
        "validation_data = scalar_data[training_len:]"
      ],
      "execution_count": 13,
      "outputs": []
    },
    {
      "cell_type": "code",
      "metadata": {
        "id": "OGbPWD0bVT3j"
      },
      "source": [
        "# todo 決定Seq長度\n",
        "seq_len = 13\n",
        "\n",
        "def split_input_target(seq):\n",
        "  input_txt = tf.expand_dims(seq[:-1],-1)\n",
        "  target_txt = tf.expand_dims(seq[1:],-1)\n",
        "  return input_txt,target_txt\n",
        "\n",
        "#a = split_input_target(seq_len)\n"
      ],
      "execution_count": 14,
      "outputs": []
    },
    {
      "cell_type": "code",
      "metadata": {
        "id": "HP47J0uvVcix"
      },
      "source": [
        "def make_ds(data):\n",
        "  data_slice = tf.data.Dataset.from_tensor_slices(data)\n",
        "  data_sequence = data_slice.batch(seq_len+1,drop_remainder=True)\n",
        "\n",
        "  dataset = data_sequence.map(split_input_target)\n",
        "  return dataset"
      ],
      "execution_count": 15,
      "outputs": []
    },
    {
      "cell_type": "code",
      "metadata": {
        "id": "5ahh3yHx8f4u",
        "colab": {
          "base_uri": "https://localhost:8080/"
        },
        "outputId": "8a9eb430-be76-4211-c4e0-6466414d5e8b"
      },
      "source": [
        "# 製作資料集\n",
        "train_ds = make_ds(training_data)\n",
        "val_ds = make_ds(validation_data)\n",
        "\n",
        "for input_example,target_exaple in train_ds.take(1):\n",
        "  print(\"Input :\", scalar.recover(input_example.numpy()))\n",
        "  print(\"Target:\", scalar.recover(target_exaple.numpy()))\n",
        "  print(\"-\"*50)\n",
        "  print(\"Input :\", input_example.numpy())\n",
        "  print(\"Target:\", target_exaple.numpy())"
      ],
      "execution_count": 16,
      "outputs": [
        {
          "output_type": "stream",
          "text": [
            "Input : [array([273.]), array([280.]), array([280.5]), array([282.]), array([278.5]), array([267.]), array([270.]), array([274.5]), array([272.]), array([272.]), array([260.]), array([263.]), array([263.])]\n",
            "Target: [array([280.]), array([280.5]), array([282.]), array([278.5]), array([267.]), array([270.]), array([274.5]), array([272.]), array([272.]), array([260.]), array([263.]), array([263.]), array([279.5])]\n",
            "--------------------------------------------------\n",
            "Input : [[0.10916442]\n",
            " [0.11859838]\n",
            " [0.11927224]\n",
            " [0.1212938 ]\n",
            " [0.11657682]\n",
            " [0.10107817]\n",
            " [0.10512129]\n",
            " [0.11118598]\n",
            " [0.10781671]\n",
            " [0.10781671]\n",
            " [0.0916442 ]\n",
            " [0.09568733]\n",
            " [0.09568733]]\n",
            "Target: [[0.11859838]\n",
            " [0.11927224]\n",
            " [0.1212938 ]\n",
            " [0.11657682]\n",
            " [0.10107817]\n",
            " [0.10512129]\n",
            " [0.11118598]\n",
            " [0.10781671]\n",
            " [0.10781671]\n",
            " [0.0916442 ]\n",
            " [0.09568733]\n",
            " [0.09568733]\n",
            " [0.11792453]]\n"
          ],
          "name": "stdout"
        }
      ]
    },
    {
      "cell_type": "code",
      "metadata": {
        "id": "xfilEwW9843h"
      },
      "source": [
        "# Batch size\n",
        "# todo 決定Batch大小\n",
        "BATCH_SIZE = 5\n",
        "\n",
        "BUFFER_SIZE = training_len\n",
        "\n",
        "train_ds = train_ds.shuffle(BUFFER_SIZE).batch(BATCH_SIZE)\n",
        "val_ds = val_ds.batch(BATCH_SIZE)"
      ],
      "execution_count": 17,
      "outputs": []
    },
    {
      "cell_type": "markdown",
      "metadata": {
        "id": "SSlabzCtaG3Y"
      },
      "source": [
        "## 4. 建立模型\n",
        "\n",
        "提示: Output是一個數值，所以Model output維度為1。\n",
        "\n",
        "* 輸入維度應為: (batch,seq_len,1)\n",
        "\n",
        "* 輸出維度應為: (batch,seq_len,1)\n",
        "\n",
        "**最後一層Dense不要加上任何activation function。**\n"
      ]
    },
    {
      "cell_type": "code",
      "metadata": {
        "id": "JJ-76DoZ9FG2",
        "colab": {
          "base_uri": "https://localhost:8080/"
        },
        "outputId": "d3ba8f31-5d0d-4271-cd9c-e513a593ce88"
      },
      "source": [
        "# todo\n",
        "input_shape =  (seq_len,1)\n",
        "\n",
        "model = tf.keras.Sequential()\n",
        "\n",
        "model.add(\n",
        "  tf.keras.layers.LSTM(\n",
        "    units=256, \n",
        "    return_sequences=True, \n",
        "    input_shape=input_shape\n",
        "))\n",
        "\n",
        "model.add(\n",
        "  tf.keras.layers.LSTM(\n",
        "    units=128, \n",
        "    return_sequences=True,\n",
        "))\n",
        "\n",
        "model.add(\n",
        "  tf.keras.layers.Dense(\n",
        "      1))\n",
        "\n",
        "\n",
        "#model.add(LSTM(10,return_sequences=True))\n",
        "#model.add(TimeDistributed(Dense(training_len)))    # or use model.add(Dense(1))\n",
        "#model.compile(loss=\"mse\", optimizer=\"adam\")\n",
        "\n",
        "\n",
        "model.summary()"
      ],
      "execution_count": 18,
      "outputs": [
        {
          "output_type": "stream",
          "text": [
            "Model: \"sequential\"\n",
            "_________________________________________________________________\n",
            "Layer (type)                 Output Shape              Param #   \n",
            "=================================================================\n",
            "lstm (LSTM)                  (None, 13, 256)           264192    \n",
            "_________________________________________________________________\n",
            "lstm_1 (LSTM)                (None, 13, 128)           197120    \n",
            "_________________________________________________________________\n",
            "dense (Dense)                (None, 13, 1)             129       \n",
            "=================================================================\n",
            "Total params: 461,441\n",
            "Trainable params: 461,441\n",
            "Non-trainable params: 0\n",
            "_________________________________________________________________\n"
          ],
          "name": "stdout"
        }
      ]
    },
    {
      "cell_type": "markdown",
      "metadata": {
        "id": "bsa9LxCcaJxN"
      },
      "source": [
        "## 5. 制定訓練計畫並訓練\n",
        "\n",
        "我們做數字相關預測，可以考慮用Mean_Squared_Error\n",
        "\n",
        "公式:\n",
        "$$MSE = \\frac{1}{n} \\sum_{i=1}^N({\\gamma-\\hat{\\gamma}})^2$$\n",
        "\n",
        "\n",
        "提示:\n",
        "不用管公式在幹嘛，compile帶入mean_squared_error。"
      ]
    },
    {
      "cell_type": "code",
      "metadata": {
        "id": "SIBlVYai-ZuU",
        "colab": {
          "base_uri": "https://localhost:8080/"
        },
        "outputId": "d08d0d95-9738-4977-ecd7-d97538318954"
      },
      "source": [
        "# todo\n",
        "epochs = 100\n",
        "\n",
        "# todo\n",
        "model.compile(loss=\"mean_squared_error\", optimizer=\"adam\")\n",
        "\n",
        "# todo\n",
        "history = model.fit(  \n",
        "    train_ds, \n",
        "    epochs = epochs,\n",
        "    validation_data=val_ds\n",
        ")\n",
        "\n"
      ],
      "execution_count": 19,
      "outputs": [
        {
          "output_type": "stream",
          "text": [
            "Epoch 1/100\n",
            "30/30 [==============================] - 34s 34ms/step - loss: 0.0192 - val_loss: 0.0596\n",
            "Epoch 2/100\n",
            "30/30 [==============================] - 0s 7ms/step - loss: 0.0035 - val_loss: 0.0345\n",
            "Epoch 3/100\n",
            "30/30 [==============================] - 0s 7ms/step - loss: 0.0022 - val_loss: 0.0254\n",
            "Epoch 4/100\n",
            "30/30 [==============================] - 0s 7ms/step - loss: 0.0021 - val_loss: 0.0190\n",
            "Epoch 5/100\n",
            "30/30 [==============================] - 0s 7ms/step - loss: 0.0012 - val_loss: 0.0143\n",
            "Epoch 6/100\n",
            "30/30 [==============================] - 0s 7ms/step - loss: 0.0010 - val_loss: 0.0110\n",
            "Epoch 7/100\n",
            "30/30 [==============================] - 0s 7ms/step - loss: 8.3533e-04 - val_loss: 0.0084\n",
            "Epoch 8/100\n",
            "30/30 [==============================] - 0s 6ms/step - loss: 6.4921e-04 - val_loss: 0.0064\n",
            "Epoch 9/100\n",
            "30/30 [==============================] - 0s 6ms/step - loss: 4.6944e-04 - val_loss: 0.0049\n",
            "Epoch 10/100\n",
            "30/30 [==============================] - 0s 7ms/step - loss: 4.1274e-04 - val_loss: 0.0036\n",
            "Epoch 11/100\n",
            "30/30 [==============================] - 0s 6ms/step - loss: 3.4856e-04 - val_loss: 0.0030\n",
            "Epoch 12/100\n",
            "30/30 [==============================] - 0s 6ms/step - loss: 2.9343e-04 - val_loss: 0.0021\n",
            "Epoch 13/100\n",
            "30/30 [==============================] - 0s 6ms/step - loss: 2.3949e-04 - val_loss: 0.0014\n",
            "Epoch 14/100\n",
            "30/30 [==============================] - 0s 6ms/step - loss: 1.8136e-04 - val_loss: 0.0012\n",
            "Epoch 15/100\n",
            "30/30 [==============================] - 0s 7ms/step - loss: 1.6363e-04 - val_loss: 7.9818e-04\n",
            "Epoch 16/100\n",
            "30/30 [==============================] - 0s 6ms/step - loss: 1.3110e-04 - val_loss: 6.8636e-04\n",
            "Epoch 17/100\n",
            "30/30 [==============================] - 0s 7ms/step - loss: 1.0652e-04 - val_loss: 7.5008e-04\n",
            "Epoch 18/100\n",
            "30/30 [==============================] - 0s 6ms/step - loss: 1.1131e-04 - val_loss: 7.7236e-04\n",
            "Epoch 19/100\n",
            "30/30 [==============================] - 0s 7ms/step - loss: 1.0255e-04 - val_loss: 7.5122e-04\n",
            "Epoch 20/100\n",
            "30/30 [==============================] - 0s 6ms/step - loss: 1.0062e-04 - val_loss: 8.2341e-04\n",
            "Epoch 21/100\n",
            "30/30 [==============================] - 0s 6ms/step - loss: 1.0891e-04 - val_loss: 8.2990e-04\n",
            "Epoch 22/100\n",
            "30/30 [==============================] - 0s 6ms/step - loss: 1.0833e-04 - val_loss: 8.6847e-04\n",
            "Epoch 23/100\n",
            "30/30 [==============================] - 0s 6ms/step - loss: 8.5431e-05 - val_loss: 8.4778e-04\n",
            "Epoch 24/100\n",
            "30/30 [==============================] - 0s 7ms/step - loss: 9.0555e-05 - val_loss: 8.6724e-04\n",
            "Epoch 25/100\n",
            "30/30 [==============================] - 0s 6ms/step - loss: 8.7621e-05 - val_loss: 9.2022e-04\n",
            "Epoch 26/100\n",
            "30/30 [==============================] - 0s 7ms/step - loss: 7.8582e-05 - val_loss: 9.1647e-04\n",
            "Epoch 27/100\n",
            "30/30 [==============================] - 0s 6ms/step - loss: 1.0704e-04 - val_loss: 9.1746e-04\n",
            "Epoch 28/100\n",
            "30/30 [==============================] - 0s 7ms/step - loss: 1.0716e-04 - val_loss: 8.9086e-04\n",
            "Epoch 29/100\n",
            "30/30 [==============================] - 0s 6ms/step - loss: 9.4082e-05 - val_loss: 8.9487e-04\n",
            "Epoch 30/100\n",
            "30/30 [==============================] - 0s 6ms/step - loss: 1.0985e-04 - val_loss: 9.4100e-04\n",
            "Epoch 31/100\n",
            "30/30 [==============================] - 0s 7ms/step - loss: 8.9323e-05 - val_loss: 0.0013\n",
            "Epoch 32/100\n",
            "30/30 [==============================] - 0s 7ms/step - loss: 1.1230e-04 - val_loss: 0.0010\n",
            "Epoch 33/100\n",
            "30/30 [==============================] - 0s 6ms/step - loss: 1.1978e-04 - val_loss: 0.0010\n",
            "Epoch 34/100\n",
            "30/30 [==============================] - 0s 6ms/step - loss: 1.0652e-04 - val_loss: 9.3962e-04\n",
            "Epoch 35/100\n",
            "30/30 [==============================] - 0s 6ms/step - loss: 1.1324e-04 - val_loss: 9.4681e-04\n",
            "Epoch 36/100\n",
            "30/30 [==============================] - 0s 6ms/step - loss: 1.0511e-04 - val_loss: 0.0010\n",
            "Epoch 37/100\n",
            "30/30 [==============================] - 0s 6ms/step - loss: 1.0353e-04 - val_loss: 9.9337e-04\n",
            "Epoch 38/100\n",
            "30/30 [==============================] - 0s 6ms/step - loss: 9.5674e-05 - val_loss: 9.1749e-04\n",
            "Epoch 39/100\n",
            "30/30 [==============================] - 0s 6ms/step - loss: 8.1546e-05 - val_loss: 0.0010\n",
            "Epoch 40/100\n",
            "30/30 [==============================] - 0s 6ms/step - loss: 1.0061e-04 - val_loss: 9.0820e-04\n",
            "Epoch 41/100\n",
            "30/30 [==============================] - 0s 6ms/step - loss: 8.8191e-05 - val_loss: 0.0013\n",
            "Epoch 42/100\n",
            "30/30 [==============================] - 0s 6ms/step - loss: 9.8723e-05 - val_loss: 9.6619e-04\n",
            "Epoch 43/100\n",
            "30/30 [==============================] - 0s 6ms/step - loss: 9.7620e-05 - val_loss: 9.0485e-04\n",
            "Epoch 44/100\n",
            "30/30 [==============================] - 0s 6ms/step - loss: 7.9410e-05 - val_loss: 9.0276e-04\n",
            "Epoch 45/100\n",
            "30/30 [==============================] - 0s 7ms/step - loss: 8.9037e-05 - val_loss: 8.8431e-04\n",
            "Epoch 46/100\n",
            "30/30 [==============================] - 0s 6ms/step - loss: 9.4684e-05 - val_loss: 9.4135e-04\n",
            "Epoch 47/100\n",
            "30/30 [==============================] - 0s 6ms/step - loss: 8.4302e-05 - val_loss: 9.2789e-04\n",
            "Epoch 48/100\n",
            "30/30 [==============================] - 0s 7ms/step - loss: 1.0467e-04 - val_loss: 0.0010\n",
            "Epoch 49/100\n",
            "30/30 [==============================] - 0s 7ms/step - loss: 9.3636e-05 - val_loss: 8.7342e-04\n",
            "Epoch 50/100\n",
            "30/30 [==============================] - 0s 7ms/step - loss: 9.7205e-05 - val_loss: 9.3087e-04\n",
            "Epoch 51/100\n",
            "30/30 [==============================] - 0s 6ms/step - loss: 9.6100e-05 - val_loss: 0.0011\n",
            "Epoch 52/100\n",
            "30/30 [==============================] - 0s 7ms/step - loss: 1.2867e-04 - val_loss: 0.0014\n",
            "Epoch 53/100\n",
            "30/30 [==============================] - 0s 6ms/step - loss: 1.1023e-04 - val_loss: 9.9304e-04\n",
            "Epoch 54/100\n",
            "30/30 [==============================] - 0s 7ms/step - loss: 9.4249e-05 - val_loss: 9.4534e-04\n",
            "Epoch 55/100\n",
            "30/30 [==============================] - 0s 6ms/step - loss: 9.5558e-05 - val_loss: 9.6802e-04\n",
            "Epoch 56/100\n",
            "30/30 [==============================] - 0s 7ms/step - loss: 9.3938e-05 - val_loss: 8.5425e-04\n",
            "Epoch 57/100\n",
            "30/30 [==============================] - 0s 6ms/step - loss: 1.0231e-04 - val_loss: 9.3350e-04\n",
            "Epoch 58/100\n",
            "30/30 [==============================] - 0s 7ms/step - loss: 9.8905e-05 - val_loss: 9.0247e-04\n",
            "Epoch 59/100\n",
            "30/30 [==============================] - 0s 6ms/step - loss: 9.6776e-05 - val_loss: 8.7676e-04\n",
            "Epoch 60/100\n",
            "30/30 [==============================] - 0s 6ms/step - loss: 8.4864e-05 - val_loss: 8.9301e-04\n",
            "Epoch 61/100\n",
            "30/30 [==============================] - 0s 6ms/step - loss: 8.2080e-05 - val_loss: 9.3217e-04\n",
            "Epoch 62/100\n",
            "30/30 [==============================] - 0s 6ms/step - loss: 8.5847e-05 - val_loss: 8.7655e-04\n",
            "Epoch 63/100\n",
            "30/30 [==============================] - 0s 7ms/step - loss: 9.5070e-05 - val_loss: 9.5606e-04\n",
            "Epoch 64/100\n",
            "30/30 [==============================] - 0s 6ms/step - loss: 9.2565e-05 - val_loss: 9.1019e-04\n",
            "Epoch 65/100\n",
            "30/30 [==============================] - 0s 6ms/step - loss: 8.4323e-05 - val_loss: 8.6364e-04\n",
            "Epoch 66/100\n",
            "30/30 [==============================] - 0s 6ms/step - loss: 8.7124e-05 - val_loss: 8.4653e-04\n",
            "Epoch 67/100\n",
            "30/30 [==============================] - 0s 6ms/step - loss: 9.2174e-05 - val_loss: 0.0015\n",
            "Epoch 68/100\n",
            "30/30 [==============================] - 0s 6ms/step - loss: 1.3922e-04 - val_loss: 9.7603e-04\n",
            "Epoch 69/100\n",
            "30/30 [==============================] - 0s 6ms/step - loss: 9.9146e-05 - val_loss: 0.0010\n",
            "Epoch 70/100\n",
            "30/30 [==============================] - 0s 6ms/step - loss: 1.0840e-04 - val_loss: 0.0010\n",
            "Epoch 71/100\n",
            "30/30 [==============================] - 0s 6ms/step - loss: 9.0314e-05 - val_loss: 8.8560e-04\n",
            "Epoch 72/100\n",
            "30/30 [==============================] - 0s 6ms/step - loss: 8.2884e-05 - val_loss: 8.9776e-04\n",
            "Epoch 73/100\n",
            "30/30 [==============================] - 0s 6ms/step - loss: 9.3352e-05 - val_loss: 9.0091e-04\n",
            "Epoch 74/100\n",
            "30/30 [==============================] - 0s 6ms/step - loss: 9.8500e-05 - val_loss: 0.0017\n",
            "Epoch 75/100\n",
            "30/30 [==============================] - 0s 6ms/step - loss: 1.4617e-04 - val_loss: 0.0011\n",
            "Epoch 76/100\n",
            "30/30 [==============================] - 0s 7ms/step - loss: 1.0579e-04 - val_loss: 8.4922e-04\n",
            "Epoch 77/100\n",
            "30/30 [==============================] - 0s 7ms/step - loss: 1.1843e-04 - val_loss: 8.8153e-04\n",
            "Epoch 78/100\n",
            "30/30 [==============================] - 0s 6ms/step - loss: 8.9140e-05 - val_loss: 8.7199e-04\n",
            "Epoch 79/100\n",
            "30/30 [==============================] - 0s 6ms/step - loss: 8.5918e-05 - val_loss: 9.2151e-04\n",
            "Epoch 80/100\n",
            "30/30 [==============================] - 0s 6ms/step - loss: 9.3943e-05 - val_loss: 9.6332e-04\n",
            "Epoch 81/100\n",
            "30/30 [==============================] - 0s 6ms/step - loss: 1.1625e-04 - val_loss: 8.7352e-04\n",
            "Epoch 82/100\n",
            "30/30 [==============================] - 0s 6ms/step - loss: 9.8029e-05 - val_loss: 8.5938e-04\n",
            "Epoch 83/100\n",
            "30/30 [==============================] - 0s 7ms/step - loss: 8.7600e-05 - val_loss: 8.6346e-04\n",
            "Epoch 84/100\n",
            "30/30 [==============================] - 0s 6ms/step - loss: 9.7737e-05 - val_loss: 8.3373e-04\n",
            "Epoch 85/100\n",
            "30/30 [==============================] - 0s 6ms/step - loss: 9.8243e-05 - val_loss: 8.9664e-04\n",
            "Epoch 86/100\n",
            "30/30 [==============================] - 0s 6ms/step - loss: 9.8675e-05 - val_loss: 8.3147e-04\n",
            "Epoch 87/100\n",
            "30/30 [==============================] - 0s 6ms/step - loss: 8.8955e-05 - val_loss: 8.1793e-04\n",
            "Epoch 88/100\n",
            "30/30 [==============================] - 0s 7ms/step - loss: 9.3007e-05 - val_loss: 8.2493e-04\n",
            "Epoch 89/100\n",
            "30/30 [==============================] - 0s 6ms/step - loss: 9.6540e-05 - val_loss: 8.4860e-04\n",
            "Epoch 90/100\n",
            "30/30 [==============================] - 0s 6ms/step - loss: 1.0025e-04 - val_loss: 8.7194e-04\n",
            "Epoch 91/100\n",
            "30/30 [==============================] - 0s 7ms/step - loss: 1.2177e-04 - val_loss: 0.0014\n",
            "Epoch 92/100\n",
            "30/30 [==============================] - 0s 7ms/step - loss: 1.4346e-04 - val_loss: 9.5422e-04\n",
            "Epoch 93/100\n",
            "30/30 [==============================] - 0s 7ms/step - loss: 9.8121e-05 - val_loss: 8.8821e-04\n",
            "Epoch 94/100\n",
            "30/30 [==============================] - 0s 7ms/step - loss: 9.7153e-05 - val_loss: 8.1454e-04\n",
            "Epoch 95/100\n",
            "30/30 [==============================] - 0s 7ms/step - loss: 1.2076e-04 - val_loss: 9.2032e-04\n",
            "Epoch 96/100\n",
            "30/30 [==============================] - 0s 7ms/step - loss: 9.9980e-05 - val_loss: 9.3975e-04\n",
            "Epoch 97/100\n",
            "30/30 [==============================] - 0s 7ms/step - loss: 8.7108e-05 - val_loss: 9.2626e-04\n",
            "Epoch 98/100\n",
            "30/30 [==============================] - 0s 6ms/step - loss: 9.4869e-05 - val_loss: 7.9391e-04\n",
            "Epoch 99/100\n",
            "30/30 [==============================] - 0s 6ms/step - loss: 1.1060e-04 - val_loss: 9.1418e-04\n",
            "Epoch 100/100\n",
            "30/30 [==============================] - 0s 6ms/step - loss: 9.4338e-05 - val_loss: 8.1618e-04\n"
          ],
          "name": "stdout"
        }
      ]
    },
    {
      "cell_type": "markdown",
      "metadata": {
        "id": "4fLe9uGZaMBJ"
      },
      "source": [
        "## 6. 評估模型"
      ]
    },
    {
      "cell_type": "code",
      "metadata": {
        "id": "j3T68McvCkcl",
        "colab": {
          "base_uri": "https://localhost:8080/",
          "height": 295
        },
        "outputId": "f2b227dc-dcda-4499-b8bd-61f3b56308dc"
      },
      "source": [
        "l1, = plt.plot(history.history['loss'])\n",
        "l2, = plt.plot(history.history['val_loss'])\n",
        "plt.legend(handles=[l1,l2],labels=['loss','val_loss'],loc='best')\n",
        "plt.title('model loss')\n",
        "plt.ylabel('loss')\n",
        "plt.xlabel('epoch')\n",
        "\n",
        "plt.show()"
      ],
      "execution_count": 20,
      "outputs": [
        {
          "output_type": "display_data",
          "data": {
            "image/png": "[encoded data removed]",
            "text/plain": [
              "<Figure size 432x288 with 1 Axes>"
            ]
          },
          "metadata": {
            "tags": [],
            "needs_background": "light"
          }
        }
      ]
    },
    {
      "cell_type": "code",
      "metadata": {
        "id": "CUoUTu8KC_Sq",
        "colab": {
          "base_uri": "https://localhost:8080/",
          "height": 194
        },
        "outputId": "bf6ae9bf-96ed-4858-c6dc-2d2850a9505b"
      },
      "source": [
        "test_company = test_df[test_df[\"company\"] == company_id]\n",
        "test_company.head()"
      ],
      "execution_count": 21,
      "outputs": [
        {
          "output_type": "execute_result",
          "data": {
            "text/html": [
              "<div>\n",
              "<style scoped>\n",
              "    .dataframe tbody tr th:only-of-type {\n",
              "        vertical-align: middle;\n",
              "    }\n",
              "\n",
              "    .dataframe tbody tr th {\n",
              "        vertical-align: top;\n",
              "    }\n",
              "\n",
              "    .dataframe thead th {\n",
              "        text-align: right;\n",
              "    }\n",
              "</style>\n",
              "<table border=\"1\" class=\"dataframe\">\n",
              "  <thead>\n",
              "    <tr style=\"text-align: right;\">\n",
              "      <th></th>\n",
              "      <th>company</th>\n",
              "      <th>date</th>\n",
              "      <th>price</th>\n",
              "    </tr>\n",
              "  </thead>\n",
              "  <tbody>\n",
              "    <tr>\n",
              "      <th>77</th>\n",
              "      <td>2454</td>\n",
              "      <td>2021/2/1</td>\n",
              "      <td>905.0</td>\n",
              "    </tr>\n",
              "    <tr>\n",
              "      <th>76</th>\n",
              "      <td>2454</td>\n",
              "      <td>2021/2/2</td>\n",
              "      <td>931.0</td>\n",
              "    </tr>\n",
              "    <tr>\n",
              "      <th>75</th>\n",
              "      <td>2454</td>\n",
              "      <td>2021/2/3</td>\n",
              "      <td>950.0</td>\n",
              "    </tr>\n",
              "    <tr>\n",
              "      <th>74</th>\n",
              "      <td>2454</td>\n",
              "      <td>2021/2/4</td>\n",
              "      <td>946.0</td>\n",
              "    </tr>\n",
              "    <tr>\n",
              "      <th>73</th>\n",
              "      <td>2454</td>\n",
              "      <td>2021/2/5</td>\n",
              "      <td>950.0</td>\n",
              "    </tr>\n",
              "  </tbody>\n",
              "</table>\n",
              "</div>"
            ],
            "text/plain": [
              "    company      date  price\n",
              "77     2454  2021/2/1  905.0\n",
              "76     2454  2021/2/2  931.0\n",
              "75     2454  2021/2/3  950.0\n",
              "74     2454  2021/2/4  946.0\n",
              "73     2454  2021/2/5  950.0"
            ]
          },
          "metadata": {
            "tags": []
          },
          "execution_count": 21
        }
      ]
    },
    {
      "cell_type": "markdown",
      "metadata": {
        "id": "JaDw00V8Z-Lw"
      },
      "source": [
        "## 7. 做預測 (20分)"
      ]
    },
    {
      "cell_type": "code",
      "metadata": {
        "id": "vFf2lmOFElai"
      },
      "source": [
        "# 預測 Test data\n",
        "# 現在我們取出了選定公司最後seq_len天\n",
        "# 我們模型透過讀取seq_len天後預測出seq_len+1天的價格\n",
        "\n",
        "# 將日期保存在datas中 (list)\n",
        "# 將真實價格保存在real_prices中 (list)\n",
        "# 將預測價格保存在pred_prices中 (list) *注: 請填入經過正規化後的價格\n",
        "\n",
        "# input是一個經過**正規化**的真實價格list，請試著遍歷test_company來填滿上述三個list\n",
        "# 可以TextGeneration的generateWords function，概念一樣，但是這次input請全部都填入\"真實價格\"\n",
        "# 但是這次input請append \"真實價格\"\n",
        "# 但是這次input請append \"真實價格\"\n",
        "# 但是這次input請append \"真實價格\"\n",
        "# 但是這次input請append \"真實價格\"\n",
        "# 但是這次input請append \"真實價格\"\n",
        "\n",
        "init_price = company.iloc[-seq_len:,:][\"price\"].values\n",
        "dates = []\n",
        "real_prices = []\n",
        "pred_prices = []\n",
        "input = scalar.transform(init_price)\n",
        "\n",
        "for index,row in test_company.iterrows():\n",
        "  # 我已經幫你把real_price和date放入list\n",
        "  real_price = row[\"price\"]\n",
        "  real_prices.append(real_price)\n",
        "  date = row[\"date\"]\n",
        "  dates.append(date)\n",
        "\n",
        "  next_input = tf.expand_dims(input,axis=-1)\n",
        "  next_input = tf.expand_dims(next_input,axis=0)\n",
        "  predicts = model(next_input)\n",
        "  predicts = predicts[:,-1,:]\n",
        "  pred_prices.append(float(predicts))\n",
        "\n",
        "\n",
        "  input.append(scalar.transform_one(real_price))\n",
        "  input = input[1:]\n",
        "  \n",
        "\n",
        "  \n",
        "  \n",
        "  # 參考步驟 (在for迴圈中) :\n",
        "  # 1. 把input轉**維度**成一個新變數next_input丟入model\n",
        "  # 2. 獲得的pred取出seq中最後一個時間點的output數值 (提示: [0,-1,0])\n",
        "  # 3. 把pred丟入pred_prices中\n",
        "  # 4. 把real_price經過transform_one轉換成小數點並加在input後面\n",
        "  # 5. 保持input長度為seq_len長 (也就是把最前面的數字踢掉)\n",
        "  ##########\n",
        "  # todo #\n",
        "  ##########\n",
        "\n"
      ],
      "execution_count": 22,
      "outputs": []
    },
    {
      "cell_type": "code",
      "metadata": {
        "id": "1TIRXmjWbbXq",
        "colab": {
          "base_uri": "https://localhost:8080/"
        },
        "outputId": "5cf37c47-e9b2-4e71-cd2e-5c1be79d7d0d"
      },
      "source": [
        "print(f\"dates : {dates[:10]}\")\n",
        "print(f\"real_prices : {real_prices[:10]}\")\n",
        "print(f\"pred_prices : {pred_prices[:10]}\")"
      ],
      "execution_count": 23,
      "outputs": [
        {
          "output_type": "stream",
          "text": [
            "dates : ['2021/2/1', '2021/2/2', '2021/2/3', '2021/2/4', '2021/2/5', '2021/2/17', '2021/2/18', '2021/2/19', '2021/2/22', '2021/2/23']\n",
            "real_prices : [905.0, 931.0, 950.0, 946.0, 950.0, 980.0, 978.0, 964.0, 951.0, 965.0]\n",
            "pred_prices : [0.9320843815803528, 0.9769198894500732, 1.009421944618225, 1.0331037044525146, 1.0233207941055298, 1.0316863059997559, 1.0777957439422607, 1.0665656328201294, 1.046626329421997, 1.031103491783142]\n"
          ],
          "name": "stdout"
        }
      ]
    },
    {
      "cell_type": "markdown",
      "metadata": {
        "id": "cukTAdbxbGKN"
      },
      "source": [
        "* 預期結果:\n",
        "\n",
        "![](https://i.imgur.com/iXdMWD6.png)"
      ]
    },
    {
      "cell_type": "code",
      "metadata": {
        "id": "mAxyVvCsO1Ei",
        "colab": {
          "base_uri": "https://localhost:8080/",
          "height": 537
        },
        "outputId": "c9394a38-c25e-492e-ac68-e3e09b4d617b"
      },
      "source": [
        "plt.figure(figsize=(16, 8))\n",
        "l1, = plt.plot(dates,real_prices)\n",
        "l2, = plt.plot(dates,scalar.recover(pred_prices))\n",
        "plt.xticks(list(include_last_iter(0,len(dates),3)),rotation=30)\n",
        "plt.legend(handles=[l1,l2],labels=['Real','Pred'],loc='best')\n",
        "plt.title(companys[str(company_id)])\n",
        "plt.xlabel(\"Date\")\n",
        "plt.ylabel(\"price\")\n",
        "plt.show()"
      ],
      "execution_count": 24,
      "outputs": [
        {
          "output_type": "display_data",
          "data": {
            "image/png": "[encoded data removed]",
            "text/plain": [
              "<Figure size 1152x576 with 1 Axes>"
            ]
          },
          "metadata": {
            "tags": [],
            "needs_background": "light"
          }
        }
      ]
    },
    {
      "cell_type": "markdown",
      "metadata": {
        "id": "zXrQ1B1majO2"
      },
      "source": [
        "* 預期成果\n",
        "\n",
        "照理來說不會100%猜中，猜中幾乎100%可能是不小心偷看答案了。\n",
        "\n",
        "不過要是你的模型正確的話，應該會看到如下pred price在true price附近而不是躺在地上。\n",
        "\n",
        "![](https://i.imgur.com/tFoKEyK.png)"
      ]
    },
    {
      "cell_type": "code",
      "metadata": {
        "id": "MfTyTnnLuzGU"
      },
      "source": [
        ""
      ],
      "execution_count": 24,
      "outputs": []
    }
  ]
}